{
 "cells": [
  {
   "cell_type": "code",
   "execution_count": 1,
   "metadata": {},
   "outputs": [],
   "source": [
    "import os\n",
    "import time\n",
    "import matplotlib.pyplot as plt\n",
    "import matplotlib.gridspec as gs\n",
    "import matplotlib.ticker as tck\n",
    "from matplotlib import colors\n",
    "\n",
    "import numpy as np\n",
    "\n",
    "from scipy.interpolate import interp1d\n",
    "\n",
    "import lenstronomy.Util.util as util\n",
    "import lenstronomy.Util.image_util as image_util\n",
    "import lenstronomy.Util.constants as const\n",
    "\n",
    "from astropy.cosmology import default_cosmology\n",
    "from astropy.cosmology import Planck15 as cosmo\n",
    "import astropy.units as u\n",
    "from astropy.io import fits\n",
    "from astropy import constants as const\n",
    "from lenstronomy.Cosmo.lens_cosmo import LensCosmo\n",
    "from lenstronomy.Data.pixel_grid import PixelGrid\n",
    "from lenstronomy.Data.psf import PSF\n",
    "from lenstronomy.LensModel.lens_model import LensModel\n",
    "from lenstronomy.LightModel.light_model import LightModel\n",
    "from lenstronomy.ImSim.image_model import ImageModel\n",
    "from lenstronomy.ImSim.image_linear_solve import ImageLinearFit\n",
    "from lenstronomy.SimulationAPI.sim_api import SimAPI\n",
    "from lenstronomy.Data.psf import PSF\n",
    "from lenstronomy.Data.imaging_data import ImageData\n",
    "from astropy.constants import G, c, M_sun\n",
    "import astropy.io.fits as pyfits\n",
    "import lenstronomy.Util.param_util as param_util\n",
    "import lenstronomy.Util.simulation_util as sim_util\n",
    "from lenstronomy.Util import kernel_util\n",
    "import emcee\n",
    "import corner\n",
    "\n",
    "mpi = False  # MPI possible, but not supported through that notebook.\n",
    "\n",
    "from lenstronomy.Workflow.fitting_sequence import FittingSequence\n",
    "import pyswarms as ps\n",
    "from lenstronomy.LightModel.Profiles.shapelets import ShapeletSet\n",
    "import warnings\n",
    "\n",
    "import dynesty\n",
    "from dynesty import utils as dyfunc\n",
    "import pickle\n",
    "\n",
    "warnings.filterwarnings('ignore')\n",
    "\n",
    "import astropy.io.fits as pyfits\n",
    "from astropy.io import fits\n",
    "import matplotlib\n",
    "\n",
    "font = {'family' : 'serif',\n",
    "        'weight' : 'normal',\n",
    "        'size'   : 30}\n",
    "matplotlib.rc('font', **font)\n",
    "warnings.filterwarnings('ignore')\n",
    "\n",
    "def load_obj(name ):\n",
    "    with open(name + '.pkl', 'rb') as f:\n",
    "        return pickle.load(f)\n",
    "\n",
    "def bestfit(result):\n",
    "    #takes in the result, returns best fit and errors\n",
    "    #and returns -logl\n",
    "    logs = result.logl\n",
    "    samps = result.samples\n",
    "    argmax = np.argmax(logs)\n",
    "    \n",
    "    weights = np.exp(result.logwt - result.logz[-1])\n",
    "    mean, cov = dyfunc.mean_and_cov(samps, weights)\n",
    "    \n",
    "    errs = [cov[i,i] for i in range(len(mean))]\n",
    "    \n",
    "    return logs[argmax],samps[argmax],np.sqrt(errs)*2.\n",
    "    \n",
    "def getstats(reslist):\n",
    "    ln = len(reslist)\n",
    "    maxl = []\n",
    "    bestf = []\n",
    "    cv = []\n",
    "    for i in range(ln):\n",
    "        a,b,c = bestfit(reslist[i])\n",
    "        maxl.append(a)\n",
    "        bestf.append(b)\n",
    "        cv.append(c)\n",
    "    maxl = np.array(maxl)\n",
    "    bestf = np.array(bestf)\n",
    "    cv = np.array(cv)\n",
    "    \n",
    "    return maxl,bestf,cv \n",
    "\n",
    "# A function that calculates the critical surface mass density\n",
    "def sigma_cr(zlens,zsource):\n",
    "    #mass in Msun\n",
    "    dl = cosmo.angular_diameter_distance_z1z2(0.,zlens)\n",
    "    ds = cosmo.angular_diameter_distance_z1z2(0.,zsource)\n",
    "    dls = cosmo.angular_diameter_distance_z1z2(zlens,zsource)\n",
    "    \n",
    "    G = const.G\n",
    "    c = const.c\n",
    "    \n",
    "    return (ds/(dls*dl))*((c**2.)/(4.*np.pi*G))"
   ]
  },
  {
   "cell_type": "markdown",
   "metadata": {},
   "source": [
    "## Luminosity difference between a subhalo at z=0.88 and an interloper at z=1.4 due to the lensing of the main lens."
   ]
  },
  {
   "cell_type": "code",
   "execution_count": 2,
   "metadata": {},
   "outputs": [],
   "source": [
    "name0 = 'results/wideprior/mask3013_on_jvas_70pixSUBTR_n_max'\n",
    "name1 = 'results/narrowprior/mask3013_NARROW_on_jvas_70pixSUBTR_n_max'\n",
    "name2 = 'results/freeconcen/mask3013_NARROWCONCEN_on_jvas_70pixSUBTR_n_max'\n",
    "\n",
    "sm = 'SMOOTH'\n",
    "sb = 'SUB'\n",
    "it = 'INT'\n",
    "\n",
    "s = 'SIS'\n",
    "j = 'PJAFFE'\n",
    "n = 'NFW'\n",
    "\n",
    "int10 = load_obj(name0 + str(10) + it + s)\n",
    "ints = [int10]\n",
    "intmaxl, intbest, intcv = getstats(ints)"
   ]
  },
  {
   "cell_type": "code",
   "execution_count": 3,
   "metadata": {},
   "outputs": [],
   "source": [
    "z_lens =  0.881\n",
    "z_source =  2.059 \n",
    "\n",
    "def model_shape0(main_lens,shear,z_int):\n",
    "    lens_model_list = ['PEMD','SHEAR']\n",
    "\n",
    "    kwargs_model_shape = {'lens_model_list': ['PEMD','SHEAR'],  # list of lens models to be used\n",
    "                          'lens_light_model_list': [],  # list of unlensed light models to be used\n",
    "                          'source_light_model_list': ['SERSIC_ELLIPSE'],  # list of extended source models to be used\n",
    "                          'z_lens': z_lens, 'z_source': z_source,}\n",
    "    kwargs_model_source = {'lens_model_list': ['PEMD','SHEAR'],  # list of lens models to be used\n",
    "                          'lens_light_model_list': [],  # list of unlensed light models to be used\n",
    "                          'source_light_model_list': ['SERSIC_ELLIPSE'],  # list of extended source models to be used\n",
    "                          'z_lens': z_lens, 'z_source': z_source,}\n",
    "        \n",
    "    theta_E,gamma,clx,cly,el1,el2 = main_lens\n",
    "    gamma1, gamma2 = shear\n",
    "    \n",
    "\n",
    "    ra = 1e-4\n",
    "\n",
    "    kwargs_lens_model_macro = [{'theta_E': theta_E,'gamma':gamma, 'center_x': clx, 'center_y': cly, 'e1': el1, 'e2': el2},\n",
    "                             {'gamma1': gamma1, 'gamma2': gamma2}]\n",
    "\n",
    "    lens_model_list_macro = ['PEMD','SHEAR']\n",
    "    redshifts_macro = [z_lens,z_lens]\n",
    "\n",
    "    lens_model_class_macro = LensModel(lens_model_list=lens_model_list_macro, z_source=z_int, \n",
    "                                 lens_redshift_list=redshifts_macro, multi_plane=True)\n",
    "\n",
    "    return lens_model_class_macro, kwargs_lens_model_macro"
   ]
  },
  {
   "cell_type": "code",
   "execution_count": 4,
   "metadata": {},
   "outputs": [],
   "source": [
    "smobestf = intbest[0]\n",
    "\n",
    "main_lens = smobestf[:6]\n",
    "shear = smobestf[6:8]\n",
    "interloper = smobestf[8:12]\n",
    "\n",
    "lmodel,kwargs = model_shape0(main_lens,shear,z_source)"
   ]
  },
  {
   "cell_type": "markdown",
   "metadata": {},
   "source": [
    "$$ \\mu = \\frac{1}{(1-\\kappa)^2 - \\gamma^2}$$\n",
    "\n",
    "$$ \\mu = \\frac{1}{(1-c\\kappa_0)^2 - (c\\gamma_0)^2}$$\n",
    "where\n",
    "\n",
    "$$ c = \\frac{\\Sigma_1}{\\Sigma_2}$$"
   ]
  },
  {
   "cell_type": "code",
   "execution_count": 7,
   "metadata": {},
   "outputs": [
    {
     "name": "stdout",
     "output_type": "stream",
     "text": [
      "This is the net effect of magnification and 1/r^2\n",
      "0.5222125939256489\n",
      "i.e. interloper would appear 0.5 as bright as a subhalo\n"
     ]
    }
   ],
   "source": [
    "magmap = lmodel.magnification(interloper[1],interloper[2],kwargs)\n",
    "gammap1 = lmodel.gamma(interloper[1],interloper[2],kwargs)[0]\n",
    "gammap2 = lmodel.gamma(interloper[1],interloper[2],kwargs)[1]\n",
    "gammap = (gammap1**2. + gammap2**2.)**0.5\n",
    "kapmap = lmodel.kappa(interloper[1],interloper[2],kwargs)\n",
    "\n",
    "sigma_cr1 = sigma_cr(z_lens,z_source)\n",
    "sigma_cr2 = sigma_cr(z_lens,interloper[3])\n",
    "c = sigma_cr1/sigma_cr2\n",
    "\n",
    "magmap2 = 1./((1.-c*kapmap)**2. - (c*gammap)**2.)\n",
    "\n",
    "D1 = cosmo.luminosity_distance(z_lens)\n",
    "D2 = cosmo.luminosity_distance(interloper[3])\n",
    "\n",
    "dimming = magmap2/((D2/D1)**2.)\n",
    "\n",
    "print('This is the net effect of magnification and 1/r^2') \n",
    "print(dimming)\n",
    "print('i.e. interloper would appear 0.5 as bright as a subhalo')"
   ]
  },
  {
   "cell_type": "markdown",
   "metadata": {},
   "source": [
    "# First Calculation"
   ]
  },
  {
   "cell_type": "code",
   "execution_count": 11,
   "metadata": {},
   "outputs": [
    {
     "name": "stdout",
     "output_type": "stream",
     "text": [
      "9.733924696193688 10^7 L_sun\n"
     ]
    }
   ],
   "source": [
    "Mass = 22.40993727 ## heaviest, likely 2.0\n",
    "\n",
    "M = Mass*1e9\n",
    "Mstar = M*1e-3 # https://arxiv.org/pdf/1804.03097.pdf fig 2\n",
    "\n",
    "def getMag0(Mst):\n",
    "    A = -2./5.\n",
    "    B = 1.\n",
    "    return (np.log10(Mst) - B)/A\n",
    "\n",
    "def getLumin(M):\n",
    "    return np.power(10.,(4.8-M)/2.5)\n",
    "print(dimming*getLumin(getMag0(Mstar))/1e7,'10^7 L_sun')"
   ]
  },
  {
   "cell_type": "markdown",
   "metadata": {},
   "source": [
    "# Second Calculation"
   ]
  },
  {
   "cell_type": "markdown",
   "metadata": {},
   "source": [
    "$$ b = 4 \\pi  \\left(\\frac{\\sigma}{c}\\right)^2 \\frac{D_{ls}}{D_{os}}$$\n",
    "\n",
    "$$ \\frac{\\sigma}{c} = \\left(\\frac{b}{4\\pi}\\frac{D_{os}}{D_{ls}}\\right)^{1/2}$$"
   ]
  },
  {
   "cell_type": "code",
   "execution_count": 12,
   "metadata": {},
   "outputs": [],
   "source": [
    "light = const.c\n",
    "unit = light.unit\n",
    "c = (light.value)*(light.unit)\n",
    "\n",
    "Dos = cosmo.angular_diameter_distance(z_source)\n",
    "Dls = cosmo.angular_diameter_distance_z1z2(interloper[3],z_source)\n",
    "\n",
    "arcsec = 4.84814e-6\n",
    "\n",
    "vsig = c*((interloper[0]*1e-3*arcsec*Dos)/(4.*np.pi*Dls))**0.5 \n",
    "\n",
    "vsigval = (vsig.to('km/s')).value"
   ]
  },
  {
   "cell_type": "markdown",
   "metadata": {},
   "source": [
    "$$ M = 4.8 - 2.5log(L/L_{sun})$$\n",
    "\n",
    "$$ L/L_{sun} = 10^\\frac{(4.8 - M)}{2.5} $$\n",
    "\n",
    "$$ log(\\sigma) = A M + B $$ # Figure 16 of https://articles.adsabs.harvard.edu/pdf/1976ApJ...204..668F\n",
    "\n",
    "I estimate that A = -0.1, B = 0.33"
   ]
  },
  {
   "cell_type": "code",
   "execution_count": 13,
   "metadata": {},
   "outputs": [
    {
     "name": "stdout",
     "output_type": "stream",
     "text": [
      "1.031832155948406 10^7 L_sun\n"
     ]
    }
   ],
   "source": [
    "def getMag(sig):\n",
    "    A = -0.1\n",
    "    B = 0.33\n",
    "    return (np.log10(sig) - B)/A\n",
    "\n",
    "print(dimming*getLumin(getMag(vsigval))/1e7,'10^7 L_sun')"
   ]
  }
 ],
 "metadata": {
  "kernelspec": {
   "display_name": "Python 3",
   "language": "python",
   "name": "python3"
  },
  "language_info": {
   "codemirror_mode": {
    "name": "ipython",
    "version": 3
   },
   "file_extension": ".py",
   "mimetype": "text/x-python",
   "name": "python",
   "nbconvert_exporter": "python",
   "pygments_lexer": "ipython3",
   "version": "3.8.3"
  }
 },
 "nbformat": 4,
 "nbformat_minor": 4
}
